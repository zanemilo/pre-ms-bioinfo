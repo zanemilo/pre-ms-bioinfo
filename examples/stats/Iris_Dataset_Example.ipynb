{
 "cells": [
  {
   "cell_type": "markdown",
   "id": "c80d0f57-ab7b-486e-a66b-6a499d6d56ba",
   "metadata": {},
   "source": [
    "# **Iris Dataset**"
   ]
  },
  {
   "cell_type": "markdown",
   "id": "226379ad-fde1-4760-b796-47ea313c5a2d",
   "metadata": {},
   "source": [
    "## Goal\n",
    "In this example notebook, I will be doing some exploratory data analysis on scikitlearns iris dataset.\n",
    "Follow the GFG link below to get further exmaples and guidance.\n",
    "[GeeksForGeeks](https://www.geeksforgeeks.org/data-analysis/exploratory-data-analysis-on-iris-dataset/)"
   ]
  },
  {
   "cell_type": "code",
   "execution_count": 21,
   "id": "850d7c9e-33d8-4a54-a17f-428b0e574308",
   "metadata": {},
   "outputs": [
    {
     "name": "stdout",
     "output_type": "stream",
     "text": [
      "   sepal length (cm)  sepal width (cm)  petal length (cm)  petal width (cm)  \\\n",
      "0                5.1               3.5                1.4               0.2   \n",
      "1                4.9               3.0                1.4               0.2   \n",
      "2                4.7               3.2                1.3               0.2   \n",
      "3                4.6               3.1                1.5               0.2   \n",
      "4                5.0               3.6                1.4               0.2   \n",
      "\n",
      "   target  \n",
      "0       0  \n",
      "1       0  \n",
      "2       0  \n",
      "3       0  \n",
      "4       0  \n",
      "First 5 samples:\n",
      "Sample 1: [5.1 3.5 1.4 0.2] (Class: 0, Species: setosa)\n",
      "Sample 2: [4.9 3.  1.4 0.2] (Class: 0, Species: setosa)\n",
      "Sample 3: [4.7 3.2 1.3 0.2] (Class: 0, Species: setosa)\n",
      "Sample 4: [4.6 3.1 1.5 0.2] (Class: 0, Species: setosa)\n",
      "Sample 5: [5.  3.6 1.4 0.2] (Class: 0, Species: setosa)\n"
     ]
    }
   ],
   "source": [
    "import pandas as pd\n",
    "from sklearn.datasets import load_iris\n",
    "\n",
    "iris = load_iris()\n",
    "df = load_iris(as_frame=True).frame\n",
    "# Note -> w/o 'as_frame=True', data would load as a 'Bunch' obj like a Dict.\n",
    "# .frame comes from sklearn integrating with pd\n",
    "print(df.head())\n",
    "\n",
    "\n",
    "x = iris.data # Feature data\n",
    "#print(f\"Feature names: {iris.feature_names}\")\n",
    "\n",
    "y = iris.target # Target variable data\n",
    "#print(f\"Target names: {iris.target_names}\")\n",
    "\n",
    "\n",
    "# Print the first few samples in the dataset\n",
    "print(\"First 5 samples:\")\n",
    "for i in range(5):\n",
    "    print(f\"Sample {i+1}: {x[i]} (Class: {y[i]}, Species: {iris.target_names[y[i]]})\")"
   ]
  },
  {
   "cell_type": "markdown",
   "id": "759e427a-abb0-45ca-8f4f-09d0327b6683",
   "metadata": {},
   "source": [
    "- iris_load() loads the data from sklearn\n",
    "- With args 'as_frame=True', the set is loaded as a dataframe.\n",
    "- Using '.frame' is an integrated way to transfer sklearn df to pandas df"
   ]
  },
  {
   "cell_type": "code",
   "execution_count": 29,
   "id": "8d011f2c-de27-4c4a-b24b-d9777a4e51f4",
   "metadata": {},
   "outputs": [
    {
     "data": {
      "text/plain": [
       "(150, 5)"
      ]
     },
     "execution_count": 29,
     "metadata": {},
     "output_type": "execute_result"
    }
   ],
   "source": [
    "df.shape # Returns the df shape"
   ]
  },
  {
   "cell_type": "code",
   "execution_count": 28,
   "id": "8f12ff0e-295b-4f0b-8e4f-823b057dbcd7",
   "metadata": {},
   "outputs": [
    {
     "name": "stdout",
     "output_type": "stream",
     "text": [
      "<class 'pandas.core.frame.DataFrame'>\n",
      "RangeIndex: 150 entries, 0 to 149\n",
      "Data columns (total 5 columns):\n",
      " #   Column             Non-Null Count  Dtype  \n",
      "---  ------             --------------  -----  \n",
      " 0   sepal length (cm)  150 non-null    float64\n",
      " 1   sepal width (cm)   150 non-null    float64\n",
      " 2   petal length (cm)  150 non-null    float64\n",
      " 3   petal width (cm)   150 non-null    float64\n",
      " 4   target             150 non-null    int64  \n",
      "dtypes: float64(4), int64(1)\n",
      "memory usage: 6.0 KB\n"
     ]
    }
   ],
   "source": [
    "df.info() # Returns columns and their data types"
   ]
  },
  {
   "cell_type": "code",
   "execution_count": 31,
   "id": "12a8492c-dad5-4a24-be67-14952abfc2c8",
   "metadata": {},
   "outputs": [
    {
     "data": {
      "text/html": [
       "<div>\n",
       "<style scoped>\n",
       "    .dataframe tbody tr th:only-of-type {\n",
       "        vertical-align: middle;\n",
       "    }\n",
       "\n",
       "    .dataframe tbody tr th {\n",
       "        vertical-align: top;\n",
       "    }\n",
       "\n",
       "    .dataframe thead th {\n",
       "        text-align: right;\n",
       "    }\n",
       "</style>\n",
       "<table border=\"1\" class=\"dataframe\">\n",
       "  <thead>\n",
       "    <tr style=\"text-align: right;\">\n",
       "      <th></th>\n",
       "      <th>sepal length (cm)</th>\n",
       "      <th>sepal width (cm)</th>\n",
       "      <th>petal length (cm)</th>\n",
       "      <th>petal width (cm)</th>\n",
       "      <th>target</th>\n",
       "    </tr>\n",
       "  </thead>\n",
       "  <tbody>\n",
       "    <tr>\n",
       "      <th>count</th>\n",
       "      <td>150.000000</td>\n",
       "      <td>150.000000</td>\n",
       "      <td>150.000000</td>\n",
       "      <td>150.000000</td>\n",
       "      <td>150.000000</td>\n",
       "    </tr>\n",
       "    <tr>\n",
       "      <th>mean</th>\n",
       "      <td>5.843333</td>\n",
       "      <td>3.057333</td>\n",
       "      <td>3.758000</td>\n",
       "      <td>1.199333</td>\n",
       "      <td>1.000000</td>\n",
       "    </tr>\n",
       "    <tr>\n",
       "      <th>std</th>\n",
       "      <td>0.828066</td>\n",
       "      <td>0.435866</td>\n",
       "      <td>1.765298</td>\n",
       "      <td>0.762238</td>\n",
       "      <td>0.819232</td>\n",
       "    </tr>\n",
       "    <tr>\n",
       "      <th>min</th>\n",
       "      <td>4.300000</td>\n",
       "      <td>2.000000</td>\n",
       "      <td>1.000000</td>\n",
       "      <td>0.100000</td>\n",
       "      <td>0.000000</td>\n",
       "    </tr>\n",
       "    <tr>\n",
       "      <th>25%</th>\n",
       "      <td>5.100000</td>\n",
       "      <td>2.800000</td>\n",
       "      <td>1.600000</td>\n",
       "      <td>0.300000</td>\n",
       "      <td>0.000000</td>\n",
       "    </tr>\n",
       "    <tr>\n",
       "      <th>50%</th>\n",
       "      <td>5.800000</td>\n",
       "      <td>3.000000</td>\n",
       "      <td>4.350000</td>\n",
       "      <td>1.300000</td>\n",
       "      <td>1.000000</td>\n",
       "    </tr>\n",
       "    <tr>\n",
       "      <th>75%</th>\n",
       "      <td>6.400000</td>\n",
       "      <td>3.300000</td>\n",
       "      <td>5.100000</td>\n",
       "      <td>1.800000</td>\n",
       "      <td>2.000000</td>\n",
       "    </tr>\n",
       "    <tr>\n",
       "      <th>max</th>\n",
       "      <td>7.900000</td>\n",
       "      <td>4.400000</td>\n",
       "      <td>6.900000</td>\n",
       "      <td>2.500000</td>\n",
       "      <td>2.000000</td>\n",
       "    </tr>\n",
       "  </tbody>\n",
       "</table>\n",
       "</div>"
      ],
      "text/plain": [
       "       sepal length (cm)  sepal width (cm)  petal length (cm)  \\\n",
       "count         150.000000        150.000000         150.000000   \n",
       "mean            5.843333          3.057333           3.758000   \n",
       "std             0.828066          0.435866           1.765298   \n",
       "min             4.300000          2.000000           1.000000   \n",
       "25%             5.100000          2.800000           1.600000   \n",
       "50%             5.800000          3.000000           4.350000   \n",
       "75%             6.400000          3.300000           5.100000   \n",
       "max             7.900000          4.400000           6.900000   \n",
       "\n",
       "       petal width (cm)      target  \n",
       "count        150.000000  150.000000  \n",
       "mean           1.199333    1.000000  \n",
       "std            0.762238    0.819232  \n",
       "min            0.100000    0.000000  \n",
       "25%            0.300000    0.000000  \n",
       "50%            1.300000    1.000000  \n",
       "75%            1.800000    2.000000  \n",
       "max            2.500000    2.000000  "
      ]
     },
     "execution_count": 31,
     "metadata": {},
     "output_type": "execute_result"
    }
   ],
   "source": [
    "df.describe()  # Quick statistical summary of the dataset"
   ]
  },
  {
   "cell_type": "markdown",
   "id": "9d885b4c-4366-4b40-9920-7eb7e2e358c0",
   "metadata": {},
   "source": [
    "## **Check for missing values**"
   ]
  },
  {
   "cell_type": "code",
   "execution_count": 33,
   "id": "8dc1d6a1-74e6-4bcb-9928-64599261bf6d",
   "metadata": {},
   "outputs": [
    {
     "data": {
      "text/plain": [
       "sepal length (cm)    0\n",
       "sepal width (cm)     0\n",
       "petal length (cm)    0\n",
       "petal width (cm)     0\n",
       "target               0\n",
       "dtype: int64"
      ]
     },
     "execution_count": 33,
     "metadata": {},
     "output_type": "execute_result"
    }
   ],
   "source": [
    "df.isnull().sum()"
   ]
  },
  {
   "cell_type": "markdown",
   "id": "fd448292-ca1f-4d25-b5cd-113e46d33ee6",
   "metadata": {},
   "source": [
    "- Missing values would return as null values in a data frame.\n",
    "- In this case, there are zero missing values.\n",
    "\n",
    "[GeeksForGeeks-pandas-isnull-notnull](https://www.geeksforgeeks.org/python/python-pandas-isnull-and-notnull/)"
   ]
  },
  {
   "cell_type": "code",
   "execution_count": null,
   "id": "ac85e23a-b344-4db5-a5dd-123e4c3a7c66",
   "metadata": {},
   "outputs": [],
   "source": []
  }
 ],
 "metadata": {
  "kernelspec": {
   "display_name": "Python 3 (ipykernel)",
   "language": "python",
   "name": "python3"
  },
  "language_info": {
   "codemirror_mode": {
    "name": "ipython",
    "version": 3
   },
   "file_extension": ".py",
   "mimetype": "text/x-python",
   "name": "python",
   "nbconvert_exporter": "python",
   "pygments_lexer": "ipython3",
   "version": "3.12.7"
  }
 },
 "nbformat": 4,
 "nbformat_minor": 5
}
