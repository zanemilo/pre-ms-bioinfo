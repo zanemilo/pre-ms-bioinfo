{
 "cells": [
  {
   "cell_type": "markdown",
   "id": "464d48a6-e25f-48c7-ad60-43c54b898a02",
   "metadata": {},
   "source": [
    "# Hypothesis Testing Notebook\n",
    "\n",
    "This notebook goes over the ideas, methods, and example application of Hypothesis testing.\n",
    "\n",
    "Hypothesis testing is a statistical method that uses a sample of data to determine if an assumption (hypothesis) about a population is true, or if it is more likely to be due to random chance.\n",
    "\n",
    "This method is used to test theories, avoid bias, and make inferences about a population.\n",
    "\n",
    "## The basic steps involve:\n",
    "\n",
    "    1. State your assumption where:\n",
    "    \n",
    "        a. Null Hypothesis (H0) is the defualt assumption -> Meaning no significant arelationship, effect, or difference.\n",
    "        \n",
    "        b. Alt Hypothesis (Ha) is the opposite of the null -> Suggests there is a relationship or effect.\n",
    "\n",
    "        \n",
    "    2. Collect and analyze data\n",
    "\n",
    "\n",
    "    3. Perform a statistical test (t-test, z-test)\n",
    "    \n",
    "\n",
    "    4. Make a decision (p-value or significance level)\n",
    "    \n",
    "        a. Reject H0\n",
    "        \n",
    "        b. Fail to reject H0\n",
    "\n",
    "\n",
    "    \n",
    "## An Example:\n",
    "\n",
    "    Imagine a pharmaceutical company is testing a new medication to see if it lowers blood pressure. \n",
    "    \n",
    "        Null Hypothesis (H0): The new medication does not lower blood pressure. \n",
    "    \n",
    "        Alternative Hypothesis (Ha): The new medication does lower blood pressure. \n",
    "    \n",
    "    They would then conduct a study, give some people the new medication and others a placebo, and collect blood pressure data. If the statistical test shows a significant difference, they could conclude that the medication is effective for the broader population, not just the sample group.\n",
    "\n",
    "\n",
    "More info -> [GeekforGeeks](https://www.geeksforgeeks.org/software-testing/understanding-hypothesis-testing/)\n",
    "\n"
   ]
  },
  {
   "cell_type": "code",
   "execution_count": 1,
   "id": "72830a87-1f40-4eed-8487-52d34a892c6b",
   "metadata": {},
   "outputs": [],
   "source": [
    "import numpy as np\n",
    "from scipy import stats"
   ]
  },
  {
   "cell_type": "markdown",
   "id": "bd96d58f-cecd-472f-bb64-144b35afc385",
   "metadata": {},
   "source": [
    "Firstly, import numpy and stats from scipy.\n",
    "\n",
    "These libraries are used to organize data into arrays to then use stats for it's ttest_rel() method."
   ]
  },
  {
   "cell_type": "code",
   "execution_count": 2,
   "id": "34b1d5a9-dda2-4d03-a13d-7a43c90ff01e",
   "metadata": {},
   "outputs": [],
   "source": [
    "b = np.array([120, 122, 118, 130, 125, 128, 115, 121, 123, 119])\n",
    "a = np.array([115, 120, 112, 128, 122, 125, 110, 117, 119, 114])"
   ]
  },
  {
   "cell_type": "markdown",
   "id": "2fb9aec5-3ee1-4046-9eec-3902eaccf72b",
   "metadata": {},
   "source": [
    "Then, set up some dummy data into the numpy arrays."
   ]
  },
  {
   "cell_type": "code",
   "execution_count": 3,
   "id": "d2444db5-3b90-46c8-bbfb-99ba1f3ed612",
   "metadata": {},
   "outputs": [],
   "source": [
    "alpha = 0.05"
   ]
  },
  {
   "cell_type": "markdown",
   "id": "97c08e03-6085-40f6-953e-46ef8d8c5165",
   "metadata": {},
   "source": [
    "Set the alpha -> significance level. This is the value that will show whether of not the outcome is siginicant enough to matter."
   ]
  },
  {
   "cell_type": "code",
   "execution_count": 4,
   "id": "1315d996-7068-407d-82b3-f96b77d6e7b6",
   "metadata": {},
   "outputs": [],
   "source": [
    "t_stat, p_val = stats.ttest_rel(a, b)"
   ]
  },
  {
   "cell_type": "markdown",
   "id": "2bf12fce-f4f8-4b42-87a4-29ad9eefad24",
   "metadata": {},
   "source": [
    "Run the ttest_rel method, passing in the arrays. This will return values for t_stat and p_val."
   ]
  },
  {
   "cell_type": "code",
   "execution_count": 5,
   "id": "0e47d1c0-1bb9-49b5-94a7-5cbd9969ccfc",
   "metadata": {},
   "outputs": [],
   "source": [
    "m = np.mean(a - b)\n",
    "s = np.std(a - b, ddof=1)\n",
    "n = len(b)\n",
    "t_manual = m / (s / np.sqrt(n))"
   ]
  },
  {
   "cell_type": "markdown",
   "id": "25f59496-5af9-42de-998e-036e24b6c1b4",
   "metadata": {},
   "source": [
    "Calculate the mean of the arrays, standard deviation, get the length of array b, then calculate the t-stat manually given the values."
   ]
  },
  {
   "cell_type": "code",
   "execution_count": 7,
   "id": "397573a9-6693-494e-9ed6-7d1626b18e88",
   "metadata": {},
   "outputs": [],
   "source": [
    "decision = \"Reject\" if p_val <= alpha else \"Fail reject\"\n",
    "concl = \"Significant difference.\" if decision == \"Reject\" else \"No significant difference.\""
   ]
  },
  {
   "cell_type": "markdown",
   "id": "d37fac3b-d5d4-49a4-8ff2-6a04b0e37d3c",
   "metadata": {},
   "source": [
    "Set up logic to reject or fail to reject based on whether the returned p_val is below the set alpha threshold.\n",
    "\n",
    "Conclusion based on the outcome of decision."
   ]
  },
  {
   "cell_type": "code",
   "execution_count": 8,
   "id": "807c6c0f-464a-459b-95dd-7a25045cfbf5",
   "metadata": {},
   "outputs": [
    {
     "name": "stdout",
     "output_type": "stream",
     "text": [
      "T: -9.0\n",
      "P: 8.538051223166285e-06\n",
      "T manual: -9.0\n",
      "Decision: Reject H0 at α=0.05\n",
      "Conclusion: Significant difference.\n"
     ]
    }
   ],
   "source": [
    "print(\"T:\", t_stat)\n",
    "print(\"P:\", p_val)\n",
    "print(\"T manual:\", t_manual)\n",
    "print(f\"Decision: {decision} H0 at α={alpha}\")\n",
    "print(\"Conclusion:\", concl)"
   ]
  },
  {
   "cell_type": "markdown",
   "id": "d458a05e-7a7c-47bf-bb32-a3a393047f0c",
   "metadata": {},
   "source": [
    "Print the results to view/confirm thew values and outcome."
   ]
  },
  {
   "cell_type": "code",
   "execution_count": null,
   "id": "4f0f17c5-ad3f-45cf-a0ef-86c1ca2d961c",
   "metadata": {},
   "outputs": [],
   "source": []
  }
 ],
 "metadata": {
  "kernelspec": {
   "display_name": "Python 3 (ipykernel)",
   "language": "python",
   "name": "python3"
  },
  "language_info": {
   "codemirror_mode": {
    "name": "ipython",
    "version": 3
   },
   "file_extension": ".py",
   "mimetype": "text/x-python",
   "name": "python",
   "nbconvert_exporter": "python",
   "pygments_lexer": "ipython3",
   "version": "3.12.7"
  }
 },
 "nbformat": 4,
 "nbformat_minor": 5
}
