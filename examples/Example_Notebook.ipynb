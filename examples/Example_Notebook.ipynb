{
 "cells": [
  {
   "cell_type": "markdown",
   "id": "ede2d6b7-d08f-4107-b47b-2d074f73373c",
   "metadata": {},
   "source": [
    "This is an example notebook. This block is in Markdown. Which is selected in the tool bar above. The next cell/block ios a python block."
   ]
  },
  {
   "cell_type": "code",
   "execution_count": 2,
   "id": "eca9415a-dc95-476c-b884-ea7047a955c1",
   "metadata": {},
   "outputs": [
    {
     "name": "stdout",
     "output_type": "stream",
     "text": [
      "3\n"
     ]
    }
   ],
   "source": [
    "x = 1\n",
    "y = 2\n",
    "z = x + y\n",
    "print(z)\n"
   ]
  },
  {
   "cell_type": "markdown",
   "id": "5b4f79f8-3f1e-4f82-beb9-140081474cb5",
   "metadata": {},
   "source": [
    "Running the python cell only activates that section of code, displaying the result just after the cell once ran. \n",
    "\n",
    "Each following cell can access previous cells variables, dependencies etc as if it were in a single script.\n",
    "\n",
    "By using the notebooks, I can keep track and make my work reproducible and easy for me to follow/get spun back up on."
   ]
  }
 ],
 "metadata": {
  "kernelspec": {
   "display_name": "Python 3 (ipykernel)",
   "language": "python",
   "name": "python3"
  },
  "language_info": {
   "codemirror_mode": {
    "name": "ipython",
    "version": 3
   },
   "file_extension": ".py",
   "mimetype": "text/x-python",
   "name": "python",
   "nbconvert_exporter": "python",
   "pygments_lexer": "ipython3",
   "version": "3.12.7"
  }
 },
 "nbformat": 4,
 "nbformat_minor": 5
}
